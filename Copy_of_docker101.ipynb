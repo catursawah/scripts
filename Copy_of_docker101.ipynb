{
  "nbformat": 4,
  "nbformat_minor": 0,
  "metadata": {
    "colab": {
      "name": "Copy of docker101.ipynb",
      "provenance": [],
      "toc_visible": true,
      "include_colab_link": true
    },
    "kernelspec": {
      "name": "python3",
      "display_name": "Python 3"
    },
    "accelerator": "GPU",
    "gpuClass": "standard"
  },
  "cells": [
    {
      "cell_type": "markdown",
      "metadata": {
        "id": "view-in-github",
        "colab_type": "text"
      },
      "source": [
        "<a href=\"https://colab.research.google.com/github/nathanfleight/scripts/blob/main/Copy_of_docker101.ipynb\" target=\"_parent\"><img src=\"https://colab.research.google.com/assets/colab-badge.svg\" alt=\"Open In Colab\"/></a>"
      ]
    },
    {
      "cell_type": "markdown",
      "metadata": {
        "id": "QaegefE1d3Dn"
      },
      "source": [
        "# Install Docker, NVIDIA Docker, dan Tensorflow Docker Image."
      ]
    },
    {
      "cell_type": "markdown",
      "metadata": {
        "id": "iXyIhhotGBpi"
      },
      "source": [
        "**Eksperimen!**\n",
        "\n",
        "1. Install Docker (https://docs.docker.com/engine/install/ubuntu/) - pake yg repository. \n",
        "2. Jangan lupa lakuin https://docs.docker.com/engine/install/linux-postinstall/ (sampe kamu bisa 'docker hello-world' alias bisa njalanin command docker tanpa perlu sudo). Habis itu log out - log in lagi linux nya. \n",
        "3. Install NVIDIA Docker https://github.com/NVIDIA/nvidia-docker : sampe bisa nvidia-smi. \n",
        "4. Install Tensorflow Docker Image. \n",
        "Ini nginstall Tensorflow 2.1.1 pake GPU & jupyter\n",
        "```\n",
        "docker pull tensorflow/tensorflow:2.1.1-gpu-jupyter\n",
        "```\n",
        "5. Habis itu coba jalanin docker run. Tp yg ini error. \n",
        "```\n",
        "docker run --rm --runtime=nvidia -v -it -p 8888:8888 tensorflow/tensorflow:2.1.1-gpu-jupyter\n",
        "```\n",
        "Solusi nemu di https://github.com/NVIDIA/nvidia-docker/issues/838 . \n",
        "Solusi pertama yg dicoba: \n",
        "```\n",
        "sudo systemctl daemon-reload\n",
        "sudo systemctl restart docker\n",
        "```\n",
        "Tapi masih error, terus coba ganti sintaks nya ada di: \n",
        "```\n",
        "docker run --rm --gpus all -v -it -p 8888:8888 tensorflow/tensorflow:2.1.1-gpu-jupyter\n",
        "```\n",
        "ganti '--runtime=nvidia' jadi '--gpus all'. \n",
        "\n",
        "6. Harusnya udah bisa launch notebook, cek 'nvidia-smi' sama 'nvcc --version' di jupyter notebook udah bisa nunjukin output yg seharusnya.  \n"
      ]
    },
    {
      "cell_type": "markdown",
      "metadata": {
        "id": "2mFI71uweigN"
      },
      "source": [
        "# Analisis Sintaks Docker"
      ]
    },
    {
      "cell_type": "markdown",
      "metadata": {
        "id": "OVu4h2Rhx_1y"
      },
      "source": [
        "Analisis sintaks docker (dan cara mengakses dan menyimpan file jupyter notebook) https://docs.docker.com/engine/reference/commandline/run/: \n",
        "```\n",
        "docker run --rm --gpus all -it -p 8888:8888 --name cekDir12 -v $PWD/Documents:/tf tensorflow/tensorflow:2.1.1-gpu-jupyter\n",
        "```\n",
        "\n",
        "*   --gpus all > set pake seluruh gpu. \n",
        "*   -it > menginstruksi Docker untuk mengalokasi pseudo-TTY yg terhubung dg container's stdin, menciptakan interactive bash shell di container. \n",
        "*   -p > port yg dipakai oleh si jupyter notebook (dlm kasus ini localhost). \n",
        "*   -name > nama dari container, agar suatu saat kalo mau njalanin container ini lagi, cukup pake nama ini (contoh di bawah). \n",
        "*   -v > sintaks yg memfasilitasi komunikasi antara host dan container. Jadi kalau misal ini tidak diset, secara otomatis seluruh file .ipynb akan disimpan di folder container '/tf' (tp masih belum ketemu ini ada dimana, dan sepertinya tidak penting krn file .ipynb yg kita ubah sudah tersimpan di direktori host kita). Kalau pengen nge-mount ke direktori kita sendiri, bisa pake '-v /host/directory:/container/directory', maka sesuai dicontoh: '-v -dollar-PWD/Documents:/tf', maka jupyter notebook akan dimount di -dollar-PWD (direktori home dari usermu), di dalam direktori Documents. \n",
        "*   tensorflow/tensorflow:2.1.1-gpu-jupyter > ini adalah image yg di mount ke dalam container. \n",
        "\n",
        "Bonus : --rm artinya setelah container ditutup, selesai dijalankan, maka container akan dihapus secara otomatis. Sebaiknya ini dilakukan krn tidak masalah jika container dihapus, **krn data yg kita punya sudah tersimpan di direktori host yg kita masukkan**. \n"
      ]
    },
    {
      "cell_type": "markdown",
      "metadata": {
        "id": "dTouWbKtfJXd"
      },
      "source": [
        "# Start & Stop Docker Container"
      ]
    },
    {
      "cell_type": "markdown",
      "metadata": {
        "id": "RglEEp6B0uv4"
      },
      "source": [
        "Kalau kita nge-set nama dari container yg dibuat, maka kita bisa menjalankan container itu lagi kapan saja. Tp ini tidak berlaku (?) untuk jupyter notebook, krn kita butuh token utk masuk (maka dari itu sebaiknya utk jupyter notebook container, sekali pakai saja). \n",
        "\n",
        "Untuk nge-start: \n",
        "```\n",
        "docker start -nama_container-\n",
        "```\n",
        "Untuk nge-stop: \n",
        "```\n",
        "docker stop -nama_container-\n",
        "```\n"
      ]
    },
    {
      "cell_type": "markdown",
      "metadata": {
        "id": "LlGzpn1Ufiel"
      },
      "source": [
        "# Install Additional PIP Package"
      ]
    },
    {
      "cell_type": "markdown",
      "metadata": {
        "id": "5_Qv0Z7AflIE"
      },
      "source": [
        "Cara nambahin **additional package** di Tensorflow image (atau image apapun).\n",
        "\n",
        "Sepertinya, defaultnya tensorflow docker itu dia cuma punya bbrp default package: Pillow, h5py, keras_preprocessing, matplotlib, mock, numpy, scipy, sklearn, pandas, portpicker, enum34. \n",
        "\n",
        "Kadang kita butuh package lain, maka kita perlu membuat sebuah image baru yg mencakup package yg kita butuhkan. \n",
        "\n",
        "Kita tidak perlu built semuanya dari 0 (CUDA, CuDNN, tensorflow), cukup pakai tensorflow image yg sudah kita download sbg basis nya. "
      ]
    },
    {
      "cell_type": "markdown",
      "metadata": {
        "id": "n9oK1pKdgX44"
      },
      "source": [
        "Untuk itu, kita cukup membuat Dockerfile baru, yg isinya sbg berikut: \n",
        "```\n",
        "FROM tensorflow/tensorflow:latest-gpu\n",
        "\n",
        "RUN pip install imageio\n",
        "RUN pip install opencv-python \n",
        "```\n",
        "Simpan di file yg diberi nama 'Dockerfile'. \n",
        "\n",
        "Selanjutnya, file ini perlu di built dulu sebelum bisa dipakai. Caranya adalah, masuk ke dalam direktori dimana Dockerfile disimpan, lalu pd terminal:\n",
        "```\n",
        "docker image build . --tag locak:tensorflow-extra\n",
        "```\n",
        "Catatan: --tag adalah nama dari image yg dibuat. 'locak' menunjukkan nama repository, sedangkan 'tensorflow-extra' adalah tag. \n",
        "\n",
        "Jika image sudah berhasil di-build, maka untuk menggunakan image tsb:\n",
        "```\n",
        "docker run --gpus all -it --rm -v $PWD:/tmp -w /tmp locak:tensorflow-extra python cek_tf.py\n",
        "```\n",
        "\n",
        "Catatan: untuk melihat image apa saja yg ada pd docker:\n",
        "```\n",
        "docker image ls\n",
        "```\n",
        "Referensi: https://stackoverflow.com/questions/58191215/how-to-add-python-libraries-to-docker-image .\n",
        "\n",
        "Alternatif lain (install di container pd saat run, tp belum dicek): https://stackoverflow.com/questions/40564423/tensorflow-docker-container-on-windows-how-to-install-python-package ."
      ]
    },
    {
      "cell_type": "markdown",
      "metadata": {
        "id": "-PGDRZqqWKHd"
      },
      "source": [
        "# Coretan Log\n",
        "Abaikan saja. "
      ]
    },
    {
      "cell_type": "markdown",
      "metadata": {
        "id": "7YHrUDNxwMGn"
      },
      "source": [
        "\n",
        "\n",
        "1.   Install docker: \n",
        "\n",
        "https://docs.docker.com/get-started/ (official). \n",
        "\n",
        "https://docs.docker.com/engine/install/linux-postinstall/ (post install ? cek bisa gak tanpa sudo). \n",
        "\n",
        "https://docs.docker.com/engine/reference/run/ (reference buat sintaks run nya). \n",
        "2.   Install NVIDIA Driver dulu, tapi tidak perlu install CUDA Toolkit (ini langsung keinstall pd saat install NVIDIA Docker):\n",
        "\n",
        "3.   Install NVIDIA Docker: https://github.com/NVIDIA/nvidia-docker (official). \n",
        "\n",
        "daftar tensorflow image: https://hub.docker.com/r/tensorflow/tensorflow/tags .\n",
        "\n",
        "https://arnon.dk/installing-nvidia-docker/ (referensi install NVIDIA Docker). \n",
        "\n",
        "https://cnvrg.io/how-to-setup-docker-and-nvidia-docker-2-0-on-ubuntu-18-04/ (referensi install NVIDIA Docker, tp kayaknya udah lama). \n",
        "\n",
        "https://medium.com/@sh.tsang/docker-tutorial-5-nvidia-docker-2-0-installation-in-ubuntu-18-04-cb80f17cac65 (referens install NVIDIA Docker, tp kayaknya udah lama). \n",
        "\n",
        "\n"
      ]
    },
    {
      "cell_type": "markdown",
      "metadata": {
        "id": "w38dmvMxzEnV"
      },
      "source": [
        "Docker & Python\n",
        "\n",
        "run versi terbaru python di docker: https://realpython.com/python-versions-docker/\n",
        "\n",
        "run python file di docker : https://stackoverflow.com/questions/47202705/how-to-run-my-python-script-on-docker\n",
        "\n"
      ]
    },
    {
      "cell_type": "markdown",
      "metadata": {
        "id": "s7cdGGsX15j2"
      },
      "source": [
        "Docker & Tensorflow\n",
        "\n",
        "install TF Docker Ubuntu 18.04 with GPU: https://medium.com/@madmenhitbooker/install-tensorflow-docker-on-ubuntu-18-04-with-gpu-support-ed58046a2a56\n",
        "\n",
        "setup TF-GPU, Anaconda: https://blog.rubell.com/how-to-install-anaconda-tensorflow-2-gpu-in-docker-on-ubuntu/\n",
        "\n",
        "setup TF Python3 environment: https://winsmarts.com/easiest-way-to-setup-a-tensorflow-python3-environment-with-docker-5fc3ec0f6df1\n",
        "\n",
        "docker TF2 (pake jupyter notebook) : https://analyticsindiamag.com/docker-solution-for-tensorflow-2-0-how-to-get-started/\n",
        "\n",
        "referensi lain: https://missinglink.ai/guides/tensorflow/tensorflow-docker/\n"
      ]
    },
    {
      "cell_type": "markdown",
      "metadata": {
        "id": "dpyopORr2H47"
      },
      "source": [
        "Docker & Cloud Platform \n",
        "\n",
        "Jupyter + Tensorflow + GPU + Docker + Google Compute Engine: https://medium.com/google-cloud/jupyter-tensorflow-nvidia-gpu-docker-google-compute-engine-4a146f085f17"
      ]
    },
    {
      "cell_type": "markdown",
      "metadata": {
        "id": "wmJexgghi3ig"
      },
      "source": [
        "# Lainnya: Kubernetes (link)"
      ]
    },
    {
      "cell_type": "markdown",
      "metadata": {
        "id": "V4VRnpp8mese"
      },
      "source": [
        "Kubernetes adalah platform untuk orkestrasi container. https://kubernetes.io/id/docs/concepts/overview/what-is-kubernetes/\n",
        "\n",
        "Perbedaan antara kubernetes vs docker: https://azure.microsoft.com/en-us/topic/kubernetes-vs-docker/ \n",
        "\n",
        "Dari artikel tsb akan jelas bahwa padanan utk kubernetes adalah docker swarm. \n",
        "\n",
        "Dan ada lagi saingannya yaitu Apache Mesos: https://vexxhost.com/blog/kubernetes-mesos-comparison-containerization/ ."
      ]
    }
  ]
}